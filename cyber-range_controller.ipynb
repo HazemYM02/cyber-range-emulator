{
 "cells": [
  {
   "cell_type": "code",
   "execution_count": 2,
   "id": "7eeb0954",
   "metadata": {},
   "outputs": [
    {
     "name": "stdout",
     "output_type": "stream",
     "text": [
      "🧾 Running Containers:\n",
      "- victim (running)\n",
      "- router (running)\n",
      "- firewall (running)\n",
      "- workstation (running)\n",
      "- siem (running)\n",
      "- attacker (running)\n",
      "- dns (running)\n",
      "- webserver (running)\n"
     ]
    }
   ],
   "source": [
    "import docker\n",
    "\n",
    "# ✅ Connect to Docker\n",
    "client = docker.from_env()\n",
    "\n",
    "# ✅ List running containers\n",
    "print(\"🧾 Running Containers:\")\n",
    "for container in client.containers.list():\n",
    "    print(f\"- {container.name} ({container.status})\")\n",
    "\n",
    "# ✅ Function to run a command inside a container\n",
    "def run_command(container_name, command):\n",
    "    try:\n",
    "        container = client.containers.get(container_name)\n",
    "        print(f\"\\n🔧 Running in '{container_name}': {command}\")\n",
    "        result = container.exec_run(command)\n",
    "        print(result.output.decode())\n",
    "    except docker.errors.NotFound:\n",
    "        print(f\"❌ Container '{container_name}' not found.\")\n",
    "    except Exception as e:\n",
    "        print(f\"⚠️ Error: {e}\")"
   ]
  },
  {
   "cell_type": "code",
   "execution_count": 3,
   "id": "db082ed8",
   "metadata": {},
   "outputs": [
    {
     "name": "stdout",
     "output_type": "stream",
     "text": [
      "\n",
      "🔧 Running in 'attacker': ping -c 3 192.168.100.20\n",
      "PING 192.168.100.20 (192.168.100.20) 56(84) bytes of data.\n",
      "\n",
      "--- 192.168.100.20 ping statistics ---\n",
      "3 packets transmitted, 0 received, 100% packet loss, time 2033ms\n",
      "\n",
      "\n"
     ]
    }
   ],
   "source": [
    "run_command(\"attacker\", \"ping -c 3 192.168.100.20\")"
   ]
  },
  {
   "cell_type": "code",
   "execution_count": 4,
   "id": "07d1d668",
   "metadata": {},
   "outputs": [
    {
     "name": "stdout",
     "output_type": "stream",
     "text": [
      "\n",
      "🔧 Running in 'attacker': nmap -sV 192.168.100.40\n",
      "Starting Nmap 7.95 ( https://nmap.org ) at 2025-06-24 21:36 UTC\n",
      "Nmap scan report for 192.168.100.40\n",
      "Host is up (0.00056s latency).\n",
      "All 1000 scanned ports on 192.168.100.40 are in ignored states.\n",
      "Not shown: 1000 filtered tcp ports (no-response)\n",
      "\n",
      "Service detection performed. Please report any incorrect results at https://nmap.org/submit/ .\n",
      "Nmap done: 1 IP address (1 host up) scanned in 4.45 seconds\n",
      "\n"
     ]
    }
   ],
   "source": [
    "run_command(\"attacker\", \"nmap -sV 192.168.100.40\")"
   ]
  },
  {
   "cell_type": "code",
   "execution_count": 5,
   "id": "0ce43078",
   "metadata": {},
   "outputs": [
    {
     "name": "stdout",
     "output_type": "stream",
     "text": [
      "\n",
      "🔧 Running in 'attacker': nmap -p 8081 192.168.100.20\n",
      "Starting Nmap 7.95 ( https://nmap.org ) at 2025-06-24 21:36 UTC\n",
      "Nmap scan report for 192.168.100.20\n",
      "Host is up (0.00032s latency).\n",
      "\n",
      "PORT     STATE    SERVICE\n",
      "8081/tcp filtered blackice-icecap\n",
      "\n",
      "Nmap done: 1 IP address (1 host up) scanned in 0.37 seconds\n",
      "\n"
     ]
    }
   ],
   "source": [
    "run_command(\"attacker\", \"nmap -p 8081 192.168.100.20\")"
   ]
  },
  {
   "cell_type": "code",
   "execution_count": 6,
   "id": "2bf40f12",
   "metadata": {},
   "outputs": [
    {
     "name": "stdout",
     "output_type": "stream",
     "text": [
      "\n",
      "🔧 Running in 'attacker': echo 'Hello from attacker' | nc 192.168.100.20 8081\n",
      "Hello from attacker | nc 192.168.100.20 8081\n",
      "\n"
     ]
    }
   ],
   "source": [
    "run_command(\"attacker\", \"echo 'Hello from attacker' | nc 192.168.100.20 8081\")"
   ]
  },
  {
   "cell_type": "code",
   "execution_count": 7,
   "id": "231ef958",
   "metadata": {},
   "outputs": [
    {
     "name": "stdout",
     "output_type": "stream",
     "text": [
      "\n",
      "🔧 Running in 'attacker': nmap -p 1-1000 192.168.100.20\n",
      "Starting Nmap 7.95 ( https://nmap.org ) at 2025-06-24 21:36 UTC\n",
      "Nmap scan report for 192.168.100.20\n",
      "Host is up (0.00056s latency).\n",
      "All 1000 scanned ports on 192.168.100.20 are in ignored states.\n",
      "Not shown: 1000 filtered tcp ports (no-response)\n",
      "\n",
      "Nmap done: 1 IP address (1 host up) scanned in 4.22 seconds\n",
      "\n"
     ]
    }
   ],
   "source": [
    "run_command(\"attacker\", \"nmap -p 1-1000 192.168.100.20\")"
   ]
  },
  {
   "cell_type": "code",
   "execution_count": 8,
   "id": "df4f2f2a",
   "metadata": {},
   "outputs": [
    {
     "name": "stdout",
     "output_type": "stream",
     "text": [
      "\n",
      "🔧 Running in 'attacker': echo 'Hello from attacker' | nc 192.168.100.20 8081\n",
      "Hello from attacker | nc 192.168.100.20 8081\n",
      "\n"
     ]
    }
   ],
   "source": [
    "run_command(\"attacker\", \"echo 'Hello from attacker' | nc 192.168.100.20 8081\")"
   ]
  },
  {
   "cell_type": "code",
   "execution_count": 9,
   "id": "da4b2e96",
   "metadata": {},
   "outputs": [
    {
     "name": "stdout",
     "output_type": "stream",
     "text": [
      "\n",
      "🔧 Running in 'attacker': echo 'Hello from attacker' | nc 192.168.100.20 8081\n",
      "Hello from attacker | nc 192.168.100.20 8081\n",
      "\n"
     ]
    }
   ],
   "source": [
    "import time\n",
    "time.sleep(2)\n",
    "run_command(\"attacker\", \"echo 'Hello from attacker' | nc 192.168.100.20 8081\")"
   ]
  },
  {
   "cell_type": "code",
   "execution_count": 10,
   "id": "b3140524",
   "metadata": {},
   "outputs": [
    {
     "name": "stdout",
     "output_type": "stream",
     "text": [
      "\n",
      "🔧 Running in 'victim': ping -c 3 192.168.100.10\n",
      "PING 192.168.100.10 (192.168.100.10) 56(84) bytes of data.\n",
      "\n",
      "--- 192.168.100.10 ping statistics ---\n",
      "3 packets transmitted, 0 received, 100% packet loss, time 2027ms\n",
      "\n",
      "\n",
      "\n",
      "🔧 Running in 'firewall': ping -c 3 192.168.100.20\n",
      "PING 192.168.100.20 (192.168.100.20) 56(84) bytes of data.\n",
      "\n",
      "--- 192.168.100.20 ping statistics ---\n",
      "3 packets transmitted, 0 received, 100% packet loss, time 2063ms\n",
      "\n",
      "\n"
     ]
    }
   ],
   "source": [
    "run_command(\"victim\", \"ping -c 3 192.168.100.10\")  # ping attacker\n",
    "run_command(\"firewall\", \"ping -c 3 192.168.100.20\")  # ping victim"
   ]
  },
  {
   "cell_type": "code",
   "execution_count": 11,
   "id": "fed35d66",
   "metadata": {},
   "outputs": [
    {
     "name": "stdout",
     "output_type": "stream",
     "text": [
      "\n",
      "🔧 Running in 'workstation': ip a\n",
      "1: lo: <LOOPBACK,UP,LOWER_UP> mtu 65536 qdisc noqueue state UNKNOWN group default qlen 1000\n",
      "    link/loopback 00:00:00:00:00:00 brd 00:00:00:00:00:00\n",
      "    inet 127.0.0.1/8 scope host lo\n",
      "       valid_lft forever preferred_lft forever\n",
      "    inet6 ::1/128 scope host \n",
      "       valid_lft forever preferred_lft forever\n",
      "2: tunl0@NONE: <NOARP> mtu 1480 qdisc noop state DOWN group default qlen 1000\n",
      "    link/ipip 0.0.0.0 brd 0.0.0.0\n",
      "3: gre0@NONE: <NOARP> mtu 1476 qdisc noop state DOWN group default qlen 1000\n",
      "    link/gre 0.0.0.0 brd 0.0.0.0\n",
      "4: gretap0@NONE: <BROADCAST,MULTICAST> mtu 1462 qdisc noop state DOWN group default qlen 1000\n",
      "    link/ether 00:00:00:00:00:00 brd ff:ff:ff:ff:ff:ff\n",
      "5: erspan0@NONE: <BROADCAST,MULTICAST> mtu 1450 qdisc noop state DOWN group default qlen 1000\n",
      "    link/ether 00:00:00:00:00:00 brd ff:ff:ff:ff:ff:ff\n",
      "6: ip_vti0@NONE: <NOARP> mtu 1480 qdisc noop state DOWN group default qlen 1000\n",
      "    link/ipip 0.0.0.0 brd 0.0.0.0\n",
      "7: ip6_vti0@NONE: <NOARP> mtu 1428 qdisc noop state DOWN group default qlen 1000\n",
      "    link/tunnel6 :: brd ::\n",
      "8: sit0@NONE: <NOARP> mtu 1480 qdisc noop state DOWN group default qlen 1000\n",
      "    link/sit 0.0.0.0 brd 0.0.0.0\n",
      "9: ip6tnl0@NONE: <NOARP> mtu 1452 qdisc noop state DOWN group default qlen 1000\n",
      "    link/tunnel6 :: brd ::\n",
      "10: ip6gre0@NONE: <NOARP> mtu 1448 qdisc noop state DOWN group default qlen 1000\n",
      "    link/gre6 :: brd ::\n",
      "11: eth0@if65: <BROADCAST,MULTICAST,UP,LOWER_UP> mtu 1500 qdisc noqueue state UP group default \n",
      "    link/ether 1a:d4:3c:ad:a2:9a brd ff:ff:ff:ff:ff:ff link-netnsid 0\n",
      "    inet 172.29.0.60/24 brd 172.29.0.255 scope global eth0\n",
      "       valid_lft forever preferred_lft forever\n",
      "\n",
      "\n",
      "🔧 Running in 'siem': ip a\n",
      "OCI runtime exec failed: exec failed: unable to start container process: exec: \"ip\": executable file not found in $PATH: unknown\n",
      "\n"
     ]
    }
   ],
   "source": [
    "run_command(\"workstation\", \"ip a\")\n",
    "run_command(\"siem\", \"ip a\")"
   ]
  },
  {
   "cell_type": "code",
   "execution_count": 12,
   "id": "e77021c2",
   "metadata": {},
   "outputs": [
    {
     "name": "stdout",
     "output_type": "stream",
     "text": [
      "\n",
      "🔧 Running in 'workstation': curl http://192.168.100.40\n",
      "  % Total    % Received % Xferd  Average Speed   Time    Time     Time  Current\n",
      "                                 Dload  Upload   Total   Spent    Left  Speed\n",
      "  0     0    0     0    0     0      0      0 --:--:--  0:00:11 --:--:--     0\n",
      "curl: (7) Failed to connect to 192.168.100.40 port 80: Connection refused\n",
      "\n"
     ]
    }
   ],
   "source": [
    "run_command(\"workstation\", \"curl http://192.168.100.40\")"
   ]
  },
  {
   "cell_type": "code",
   "execution_count": 13,
   "id": "bfe8c3b4",
   "metadata": {},
   "outputs": [
    {
     "name": "stdout",
     "output_type": "stream",
     "text": [
      "\n",
      "🔧 Running in 'victim': logger \"Attack simulated from victim\" -n 192.168.100.70\n",
      "\n"
     ]
    }
   ],
   "source": [
    "run_command(\"victim\", 'logger \"Attack simulated from victim\" -n 192.168.100.70')"
   ]
  },
  {
   "cell_type": "code",
   "execution_count": 14,
   "id": "5b0871cb",
   "metadata": {},
   "outputs": [
    {
     "name": "stdout",
     "output_type": "stream",
     "text": [
      "\n",
      "🔧 Running in 'siem': tail -n 10 /var/log/syslog\n",
      "Jun 24 21:35:57 12ac042a08d7 rsyslogd: environment variable TZ is not set, auto correcting this to TZ=UTC [v8.2001.0 try https://www.rsyslog.com/e/2442 ]\n",
      "Jun 24 21:35:57 12ac042a08d7 rsyslogd: imklog: cannot open kernel log (/proc/kmsg): Operation not permitted.\n",
      "Jun 24 21:35:57 12ac042a08d7 rsyslogd: activation of module imklog failed [v8.2001.0 try https://www.rsyslog.com/e/2145 ]\n",
      "Jun 24 21:35:57 12ac042a08d7 rsyslogd: rsyslogd's groupid changed to 103\n",
      "Jun 24 21:35:57 12ac042a08d7 rsyslogd: rsyslogd's userid changed to 102\n",
      "Jun 24 21:35:57 12ac042a08d7 rsyslogd: [origin software=\"rsyslogd\" swVersion=\"8.2001.0\" x-pid=\"1\" x-info=\"https://www.rsyslog.com\"] start\n",
      "\n"
     ]
    }
   ],
   "source": [
    "run_command(\"siem\", \"tail -n 10 /var/log/syslog\")"
   ]
  },
  {
   "cell_type": "code",
   "execution_count": 15,
   "id": "8b54f10a",
   "metadata": {},
   "outputs": [
    {
     "name": "stdout",
     "output_type": "stream",
     "text": [
      "\n",
      "🔧 Running in 'attacker': nmap 192.168.100.20\n",
      "Starting Nmap 7.95 ( https://nmap.org ) at 2025-06-24 21:37 UTC\n",
      "Nmap scan report for 192.168.100.20\n",
      "Host is up (0.00053s latency).\n",
      "All 1000 scanned ports on 192.168.100.20 are in ignored states.\n",
      "Not shown: 1000 filtered tcp ports (no-response)\n",
      "\n",
      "Nmap done: 1 IP address (1 host up) scanned in 4.23 seconds\n",
      "\n"
     ]
    }
   ],
   "source": [
    "run_command(\"attacker\", \"nmap 192.168.100.20\")"
   ]
  },
  {
   "cell_type": "code",
   "execution_count": 16,
   "id": "2190be6a",
   "metadata": {},
   "outputs": [
    {
     "name": "stdout",
     "output_type": "stream",
     "text": [
      "\n",
      "🔧 Running in 'victim': ss -tuln\n",
      "Netid  State   Recv-Q  Send-Q   Local Address:Port    Peer Address:Port Process \n",
      "udp    UNCONN  0       0           127.0.0.11:43842        0.0.0.0:*            \n",
      "tcp    LISTEN  0       4096        127.0.0.11:34045        0.0.0.0:*            \n",
      "\n"
     ]
    }
   ],
   "source": [
    "run_command(\"victim\", \"ss -tuln\")"
   ]
  },
  {
   "cell_type": "code",
   "execution_count": 17,
   "id": "ed855446",
   "metadata": {},
   "outputs": [
    {
     "name": "stdout",
     "output_type": "stream",
     "text": [
      "\n",
      "🔧 Running in 'firewall': iptables -L\n",
      "Chain INPUT (policy ACCEPT)\n",
      "target     prot opt source               destination         \n",
      "\n",
      "Chain FORWARD (policy ACCEPT)\n",
      "target     prot opt source               destination         \n",
      "\n",
      "Chain OUTPUT (policy ACCEPT)\n",
      "target     prot opt source               destination         \n",
      "\n"
     ]
    }
   ],
   "source": [
    "run_command(\"firewall\", \"iptables -L\")"
   ]
  },
  {
   "cell_type": "code",
   "execution_count": 18,
   "id": "548961b8",
   "metadata": {},
   "outputs": [
    {
     "name": "stdout",
     "output_type": "stream",
     "text": [
      "\n",
      "🔧 Running in 'firewall': iptables -A INPUT -p tcp --dport 22 -j DROP\n",
      "\n"
     ]
    }
   ],
   "source": [
    "run_command(\"firewall\", \"iptables -A INPUT -p tcp --dport 22 -j DROP\")"
   ]
  },
  {
   "cell_type": "code",
   "execution_count": 19,
   "id": "5ac2c9c3",
   "metadata": {},
   "outputs": [
    {
     "name": "stdout",
     "output_type": "stream",
     "text": [
      "\n",
      "🔧 Running in 'webserver': cat /var/log/apache2/access.log\n",
      "\n",
      "\n",
      "🔧 Running in 'dns': cat /etc/resolv.conf\n",
      "# Generated by Docker Engine.\n",
      "# This file can be edited; Docker Engine will not make further changes once it\n",
      "# has been modified.\n",
      "\n",
      "nameserver 127.0.0.11\n",
      "options ndots:0\n",
      "\n",
      "# Based on host file: '/etc/resolv.conf' (internal resolver)\n",
      "# ExtServers: [host(192.168.65.7)]\n",
      "# Overrides: []\n",
      "# Option ndots from: internal\n",
      "\n"
     ]
    }
   ],
   "source": [
    "run_command(\"webserver\", \"cat /var/log/apache2/access.log\")\n",
    "run_command(\"dns\", \"cat /etc/resolv.conf\")"
   ]
  },
  {
   "cell_type": "code",
   "execution_count": 20,
   "id": "25b49d78",
   "metadata": {},
   "outputs": [
    {
     "name": "stdout",
     "output_type": "stream",
     "text": [
      "\n",
      "🔧 Running in 'victim': snort -T -i eth0\n",
      "ERROR: Test mode must be run with a snort configuration file.  Use the '-c' option on the command line to specify a configuration file.\n",
      "Fatal Error, Quitting..\n",
      "\n"
     ]
    }
   ],
   "source": [
    "run_command(\"victim\", \"snort -T -i eth0\")  # Test mode"
   ]
  },
  {
   "cell_type": "code",
   "execution_count": 21,
   "id": "b825558c",
   "metadata": {},
   "outputs": [
    {
     "name": "stdout",
     "output_type": "stream",
     "text": [
      "Requirement already satisfied: streamlit in /opt/anaconda3/lib/python3.8/site-packages (1.40.1)\n",
      "Requirement already satisfied: docker in /opt/anaconda3/lib/python3.8/site-packages (7.1.0)\n",
      "Requirement already satisfied: requests>=2.26.0 in /opt/anaconda3/lib/python3.8/site-packages (from docker) (2.32.3)\n",
      "Requirement already satisfied: urllib3>=1.26.0 in /opt/anaconda3/lib/python3.8/site-packages (from docker) (1.26.4)\n",
      "Requirement already satisfied: idna<4,>=2.5 in /opt/anaconda3/lib/python3.8/site-packages (from requests>=2.26.0->docker) (2.10)\n",
      "Requirement already satisfied: charset-normalizer<4,>=2 in /opt/anaconda3/lib/python3.8/site-packages (from requests>=2.26.0->docker) (3.4.2)\n",
      "Requirement already satisfied: certifi>=2017.4.17 in /opt/anaconda3/lib/python3.8/site-packages (from requests>=2.26.0->docker) (2022.12.7)\n",
      "Requirement already satisfied: blinker<2,>=1.0.0 in /opt/anaconda3/lib/python3.8/site-packages (from streamlit) (1.8.2)\n",
      "Requirement already satisfied: toml<2,>=0.10.1 in /opt/anaconda3/lib/python3.8/site-packages (from streamlit) (0.10.2)\n",
      "Requirement already satisfied: pydeck<1,>=0.8.0b4 in /opt/anaconda3/lib/python3.8/site-packages (from streamlit) (0.9.1)\n",
      "Requirement already satisfied: gitpython!=3.1.19,<4,>=3.0.7 in /opt/anaconda3/lib/python3.8/site-packages (from streamlit) (3.1.44)\n",
      "Requirement already satisfied: pyarrow>=7.0 in /opt/anaconda3/lib/python3.8/site-packages (from streamlit) (17.0.0)\n",
      "Requirement already satisfied: click<9,>=7.0 in /opt/anaconda3/lib/python3.8/site-packages (from streamlit) (7.1.2)\n",
      "Requirement already satisfied: packaging<25,>=20 in /opt/anaconda3/lib/python3.8/site-packages (from streamlit) (20.9)\n",
      "Requirement already satisfied: numpy<3,>=1.20 in /opt/anaconda3/lib/python3.8/site-packages (from streamlit) (1.24.4)\n",
      "Requirement already satisfied: pillow<12,>=7.1.0 in /opt/anaconda3/lib/python3.8/site-packages (from streamlit) (8.2.0)\n",
      "Requirement already satisfied: typing-extensions<5,>=4.3.0 in /opt/anaconda3/lib/python3.8/site-packages (from streamlit) (4.11.0)\n",
      "Requirement already satisfied: protobuf<6,>=3.20 in /opt/anaconda3/lib/python3.8/site-packages (from streamlit) (3.20.3)\n",
      "Requirement already satisfied: rich<14,>=10.14.0 in /opt/anaconda3/lib/python3.8/site-packages (from streamlit) (13.9.4)\n",
      "Requirement already satisfied: tornado<7,>=6.0.3 in /opt/anaconda3/lib/python3.8/site-packages (from streamlit) (6.1)\n",
      "Requirement already satisfied: pandas<3,>=1.4.0 in /opt/anaconda3/lib/python3.8/site-packages (from streamlit) (2.0.3)\n",
      "Requirement already satisfied: cachetools<6,>=4.0 in /opt/anaconda3/lib/python3.8/site-packages (from streamlit) (5.5.2)\n",
      "Requirement already satisfied: altair<6,>=4.0 in /opt/anaconda3/lib/python3.8/site-packages (from streamlit) (5.4.1)\n",
      "Requirement already satisfied: tenacity<10,>=8.1.0 in /opt/anaconda3/lib/python3.8/site-packages (from streamlit) (9.0.0)\n",
      "Requirement already satisfied: narwhals>=1.5.2 in /opt/anaconda3/lib/python3.8/site-packages (from altair<6,>=4.0->streamlit) (1.42.1)\n",
      "Requirement already satisfied: jsonschema>=3.0 in /opt/anaconda3/lib/python3.8/site-packages (from altair<6,>=4.0->streamlit) (3.2.0)\n",
      "Requirement already satisfied: jinja2 in /opt/anaconda3/lib/python3.8/site-packages (from altair<6,>=4.0->streamlit) (2.11.3)\n",
      "Requirement already satisfied: gitdb<5,>=4.0.1 in /opt/anaconda3/lib/python3.8/site-packages (from gitpython!=3.1.19,<4,>=3.0.7->streamlit) (4.0.12)\n",
      "Requirement already satisfied: smmap<6,>=3.0.1 in /opt/anaconda3/lib/python3.8/site-packages (from gitdb<5,>=4.0.1->gitpython!=3.1.19,<4,>=3.0.7->streamlit) (5.0.2)\n",
      "Requirement already satisfied: six>=1.11.0 in /opt/anaconda3/lib/python3.8/site-packages (from jsonschema>=3.0->altair<6,>=4.0->streamlit) (1.15.0)\n",
      "Requirement already satisfied: setuptools in /opt/anaconda3/lib/python3.8/site-packages (from jsonschema>=3.0->altair<6,>=4.0->streamlit) (52.0.0.post20210125)\n",
      "Requirement already satisfied: attrs>=17.4.0 in /opt/anaconda3/lib/python3.8/site-packages (from jsonschema>=3.0->altair<6,>=4.0->streamlit) (20.3.0)\n",
      "Requirement already satisfied: pyrsistent>=0.14.0 in /opt/anaconda3/lib/python3.8/site-packages (from jsonschema>=3.0->altair<6,>=4.0->streamlit) (0.17.3)\n",
      "Requirement already satisfied: pyparsing>=2.0.2 in /opt/anaconda3/lib/python3.8/site-packages (from packaging<25,>=20->streamlit) (2.4.7)\n",
      "Requirement already satisfied: tzdata>=2022.1 in /opt/anaconda3/lib/python3.8/site-packages (from pandas<3,>=1.4.0->streamlit) (2025.2)\n",
      "Requirement already satisfied: python-dateutil>=2.8.2 in /opt/anaconda3/lib/python3.8/site-packages (from pandas<3,>=1.4.0->streamlit) (2.9.0.post0)\n",
      "Requirement already satisfied: pytz>=2020.1 in /opt/anaconda3/lib/python3.8/site-packages (from pandas<3,>=1.4.0->streamlit) (2021.1)\n",
      "Requirement already satisfied: MarkupSafe>=0.23 in /opt/anaconda3/lib/python3.8/site-packages (from jinja2->altair<6,>=4.0->streamlit) (1.1.1)\n",
      "Requirement already satisfied: pygments<3.0.0,>=2.13.0 in /opt/anaconda3/lib/python3.8/site-packages (from rich<14,>=10.14.0->streamlit) (2.19.2)\n",
      "Requirement already satisfied: markdown-it-py>=2.2.0 in /opt/anaconda3/lib/python3.8/site-packages (from rich<14,>=10.14.0->streamlit) (3.0.0)\n",
      "Requirement already satisfied: mdurl~=0.1 in /opt/anaconda3/lib/python3.8/site-packages (from markdown-it-py>=2.2.0->rich<14,>=10.14.0->streamlit) (0.1.2)\n",
      "Note: you may need to restart the kernel to use updated packages.\n"
     ]
    }
   ],
   "source": [
    "pip install streamlit docker"
   ]
  },
  {
   "cell_type": "code",
   "execution_count": 22,
   "id": "f18743b4",
   "metadata": {},
   "outputs": [
    {
     "name": "stderr",
     "output_type": "stream",
     "text": [
      "2025-06-24 22:37:38.516 WARNING streamlit.runtime.scriptrunner_utils.script_run_context: Thread 'MainThread': missing ScriptRunContext! This warning can be ignored when running in bare mode.\n",
      "2025-06-24 22:37:38.517 WARNING streamlit.runtime.scriptrunner_utils.script_run_context: Thread 'MainThread': missing ScriptRunContext! This warning can be ignored when running in bare mode.\n",
      "2025-06-24 22:37:38.593 \n",
      "  \u001b[33m\u001b[1mWarning:\u001b[0m to view this Streamlit app on a browser, run it with the following\n",
      "  command:\n",
      "\n",
      "    streamlit run /opt/anaconda3/lib/python3.8/site-packages/ipykernel_launcher.py [ARGUMENTS]\n",
      "2025-06-24 22:37:38.593 Thread 'MainThread': missing ScriptRunContext! This warning can be ignored when running in bare mode.\n",
      "2025-06-24 22:37:38.614 Thread 'MainThread': missing ScriptRunContext! This warning can be ignored when running in bare mode.\n",
      "2025-06-24 22:37:38.614 Thread 'MainThread': missing ScriptRunContext! This warning can be ignored when running in bare mode.\n",
      "2025-06-24 22:37:38.615 Thread 'MainThread': missing ScriptRunContext! This warning can be ignored when running in bare mode.\n",
      "2025-06-24 22:37:38.615 Thread 'MainThread': missing ScriptRunContext! This warning can be ignored when running in bare mode.\n",
      "2025-06-24 22:37:38.615 Thread 'MainThread': missing ScriptRunContext! This warning can be ignored when running in bare mode.\n",
      "2025-06-24 22:37:38.617 Thread 'MainThread': missing ScriptRunContext! This warning can be ignored when running in bare mode.\n",
      "2025-06-24 22:37:38.618 Thread 'MainThread': missing ScriptRunContext! This warning can be ignored when running in bare mode.\n",
      "2025-06-24 22:37:38.618 Thread 'MainThread': missing ScriptRunContext! This warning can be ignored when running in bare mode.\n",
      "2025-06-24 22:37:38.619 Thread 'MainThread': missing ScriptRunContext! This warning can be ignored when running in bare mode.\n",
      "2025-06-24 22:37:38.619 Thread 'MainThread': missing ScriptRunContext! This warning can be ignored when running in bare mode.\n",
      "2025-06-24 22:37:38.619 Thread 'MainThread': missing ScriptRunContext! This warning can be ignored when running in bare mode.\n",
      "2025-06-24 22:37:38.620 Thread 'MainThread': missing ScriptRunContext! This warning can be ignored when running in bare mode.\n",
      "2025-06-24 22:37:38.620 Thread 'MainThread': missing ScriptRunContext! This warning can be ignored when running in bare mode.\n",
      "2025-06-24 22:37:38.644 Thread 'MainThread': missing ScriptRunContext! This warning can be ignored when running in bare mode.\n",
      "2025-06-24 22:37:38.645 Thread 'MainThread': missing ScriptRunContext! This warning can be ignored when running in bare mode.\n",
      "2025-06-24 22:37:38.645 Thread 'MainThread': missing ScriptRunContext! This warning can be ignored when running in bare mode.\n"
     ]
    },
    {
     "data": {
      "text/plain": [
       "DeltaGenerator()"
      ]
     },
     "execution_count": 22,
     "metadata": {},
     "output_type": "execute_result"
    }
   ],
   "source": [
    "import streamlit as st\n",
    "import docker\n",
    "\n",
    "st.set_page_config(page_title=\"Cyber-Range Network Monitor\", layout=\"wide\")\n",
    "\n",
    "st.title(\"🧠 Cyber-Range Docker Network View\")\n",
    "\n",
    "client = docker.from_env()\n",
    "\n",
    "# Get networks of interest\n",
    "networks = [\n",
    "    net for net in client.networks.list()\n",
    "    if \"cyber-range-emulator\" in net.name\n",
    "]\n",
    "\n",
    "for net in networks:\n",
    "    st.subheader(f\"📡 Network: `{net.name}`\")\n",
    "    data = []\n",
    "    for cid, details in net.attrs[\"Containers\"].items():\n",
    "        data.append({\n",
    "            \"Container Name\": details[\"Name\"],\n",
    "            \"IP Address\": details[\"IPv4Address\"].split(\"/\")[0],\n",
    "            \"MAC\": details[\"MacAddress\"],\n",
    "        })\n",
    "    if data:\n",
    "        st.table(data)\n",
    "    else:\n",
    "        st.warning(\"No containers connected.\")\n",
    "\n",
    "st.markdown(\"---\")\n",
    "st.caption(\"Built with ❤️ using Docker SDK and Streamlit\")"
   ]
  }
 ],
 "metadata": {
  "kernelspec": {
   "display_name": "base",
   "language": "python",
   "name": "python3"
  },
  "language_info": {
   "codemirror_mode": {
    "name": "ipython",
    "version": 3
   },
   "file_extension": ".py",
   "mimetype": "text/x-python",
   "name": "python",
   "nbconvert_exporter": "python",
   "pygments_lexer": "ipython3",
   "version": "3.8.8"
  }
 },
 "nbformat": 4,
 "nbformat_minor": 5
}
